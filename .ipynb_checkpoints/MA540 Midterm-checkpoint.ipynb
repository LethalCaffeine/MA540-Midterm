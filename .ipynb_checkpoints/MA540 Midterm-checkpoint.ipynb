{
 "cells": [
  {
   "cell_type": "code",
   "execution_count": 1,
   "metadata": {
    "ExecuteTime": {
     "end_time": "2020-03-12T21:34:52.634933Z",
     "start_time": "2020-03-12T21:34:50.413652Z"
    }
   },
   "outputs": [
    {
     "name": "stderr",
     "output_type": "stream",
     "text": [
      "C:\\Users\\AlexHall97\\Anaconda3\\lib\\importlib\\_bootstrap.py:219: RuntimeWarning: numpy.ufunc size changed, may indicate binary incompatibility. Expected 192 from C header, got 216 from PyObject\n",
      "  return f(*args, **kwds)\n",
      "C:\\Users\\AlexHall97\\Anaconda3\\lib\\importlib\\_bootstrap.py:219: RuntimeWarning: numpy.ufunc size changed, may indicate binary incompatibility. Expected 192 from C header, got 216 from PyObject\n",
      "  return f(*args, **kwds)\n"
     ]
    }
   ],
   "source": [
    "import pandas as pd\n",
    "import numpy as np\n",
    "from sklearn.naive_bayes import GaussianNB\n",
    "from sklearn.model_selection import train_test_split, StratifiedShuffleSplit, KFold, GridSearchCV"
   ]
  },
  {
   "cell_type": "code",
   "execution_count": 2,
   "metadata": {
    "ExecuteTime": {
     "end_time": "2020-03-12T21:35:30.297747Z",
     "start_time": "2020-03-12T21:35:30.264890Z"
    }
   },
   "outputs": [],
   "source": [
    "# allow all columns\n",
    "pd.set_option('display.max_columns', None)\n",
    "\n",
    "# load into dataframe\n",
    "data = pd.read_csv('data/data full.csv')\n",
    "\n",
    "#Redundant or none-informative features dropped\n",
    "data.drop([\"CASENUM\", \"STEMINDEX\", \"NONSTEM INDEX\", \"ACPROG1\",\n",
    "           \"CRS1 name\", \"c1 grade\", \"C2 Name\", \"C2 Grade\", \"ACPROG2\",\n",
    "           \"RATE.WSD\"],\n",
    "           axis=1, inplace=True)\n",
    "\n",
    "data.rename({\"CRS1 \": \"CRS1\"}, axis=1, inplace=True)\n",
    "\n",
    "# split features and target\n",
    "features = data.iloc[:, :-1]\n",
    "target = data.iloc[:, -1:]\n",
    "\n",
    "# encode target column into integers\n",
    "target = target.apply(lambda x: 1 if x.item() == \"G\" else 0, axis=1)\n",
    "\n",
    "train_size = floor(data.shape[0] * 0.8)\n",
    "test_size = ceil(data.shape[0] * 0.2)\n",
    "\n",
    "features_train = features.iloc[:train_size, :]\n",
    "features_test = features.iloc[-test_size:, :]\n",
    "outcome_train = target.iloc[:train_size]\n",
    "outcome_test = target.iloc[-test_size:]"
   ]
  },
  {
   "cell_type": "code",
   "execution_count": null,
   "metadata": {},
   "outputs": [],
   "source": [
    "model = GaussianNB()\n",
    "model.fit()"
   ]
  }
 ],
 "metadata": {
  "kernelspec": {
   "display_name": "Python 3",
   "language": "python",
   "name": "python3"
  },
  "language_info": {
   "codemirror_mode": {
    "name": "ipython",
    "version": 3
   },
   "file_extension": ".py",
   "mimetype": "text/x-python",
   "name": "python",
   "nbconvert_exporter": "python",
   "pygments_lexer": "ipython3",
   "version": "3.6.10"
  },
  "toc": {
   "base_numbering": 1,
   "nav_menu": {},
   "number_sections": true,
   "sideBar": true,
   "skip_h1_title": false,
   "title_cell": "Table of Contents",
   "title_sidebar": "Contents",
   "toc_cell": false,
   "toc_position": {},
   "toc_section_display": true,
   "toc_window_display": false
  },
  "varInspector": {
   "cols": {
    "lenName": 16,
    "lenType": 16,
    "lenVar": 40
   },
   "kernels_config": {
    "python": {
     "delete_cmd_postfix": "",
     "delete_cmd_prefix": "del ",
     "library": "var_list.py",
     "varRefreshCmd": "print(var_dic_list())"
    },
    "r": {
     "delete_cmd_postfix": ") ",
     "delete_cmd_prefix": "rm(",
     "library": "var_list.r",
     "varRefreshCmd": "cat(var_dic_list()) "
    }
   },
   "types_to_exclude": [
    "module",
    "function",
    "builtin_function_or_method",
    "instance",
    "_Feature"
   ],
   "window_display": false
  }
 },
 "nbformat": 4,
 "nbformat_minor": 4
}
