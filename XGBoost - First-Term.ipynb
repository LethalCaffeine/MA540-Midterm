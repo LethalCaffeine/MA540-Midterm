{
 "cells": [
  {
   "cell_type": "markdown",
   "metadata": {},
   "source": [
    "# Undergraduate Retention XGBoost Application\n",
    "\n",
    "In my other jupyter notebook, I used sklearn implementations of ensemble learning methods that used Extra Trees. In this notebook, I will use xgboost's implementation of a gradient boosted tree. My concern with the algorithms I applied in the pipeline notebook is that they required null values to either be deleted or imputed. I am concerned that filling null values with zeros has some sort of effect on my model. The XGBClassifier is able to accept null values."
   ]
  },
  {
   "cell_type": "code",
   "execution_count": 1,
   "metadata": {
    "ExecuteTime": {
     "end_time": "2020-03-17T23:22:40.388683Z",
     "start_time": "2020-03-17T23:22:37.829330Z"
    }
   },
   "outputs": [],
   "source": [
    "import pandas as pd\n",
    "import numpy as np\n",
    "from math import floor, ceil\n",
    "from xgboost import XGBClassifier\n",
    "from sklearn.model_selection import train_test_split, StratifiedKFold, GridSearchCV\n",
    "from sklearn.metrics import accuracy_score, precision_score, recall_score"
   ]
  },
  {
   "cell_type": "code",
   "execution_count": 2,
   "metadata": {
    "ExecuteTime": {
     "end_time": "2020-03-17T23:22:40.446529Z",
     "start_time": "2020-03-17T23:22:40.400652Z"
    }
   },
   "outputs": [
    {
     "name": "stderr",
     "output_type": "stream",
     "text": [
      "C:\\Users\\LethalCaffeine\\Anaconda3\\lib\\site-packages\\ipykernel_launcher.py:12: FutureWarning: `item` has been deprecated and will be removed in a future version\n",
      "  if sys.path[0] == '':\n"
     ]
    }
   ],
   "source": [
    "#Allows you to see all columns\n",
    "pd.set_option('display.max_columns', None)\n",
    "\n",
    "# load into dataframe\n",
    "data = pd.read_csv('data/LiuSelectedDataFirstTerm.csv')\n",
    "\n",
    "# split features and target\n",
    "features = data.iloc[:, :-1]\n",
    "target = data.iloc[:, -1:]\n",
    "\n",
    "# encode target column into integers\n",
    "target = target.apply(lambda x: 1 if x.item() == \"G\" else 0, axis=1)\n",
    "\n",
    "train_size = floor(data.shape[0] * 0.8)\n",
    "test_size = ceil(data.shape[0] * 0.2)\n",
    "\n",
    "features_train = features.iloc[:train_size, :]\n",
    "features_test = features.iloc[-test_size:, :]\n",
    "outcome_train = target.iloc[:train_size]\n",
    "outcome_test = target.iloc[-test_size:]"
   ]
  },
  {
   "cell_type": "code",
   "execution_count": 10,
   "metadata": {
    "ExecuteTime": {
     "end_time": "2020-03-17T23:54:51.117454Z",
     "start_time": "2020-03-17T23:54:31.692356Z"
    }
   },
   "outputs": [
    {
     "name": "stdout",
     "output_type": "stream",
     "text": [
      "XGBoost had an accuracy of 0.635, a precision of 0.702, and a recall of 0.725.\n"
     ]
    }
   ],
   "source": [
    "# parameters to tune\n",
    "n_estimators = [25, 50, 75, 100]\n",
    "max_depth = [x for x in range(1, 10, 2)]\n",
    "eta = [0.001, 0.01, 0.1, 0.3, 0.6, 0.9]\n",
    "param_grid = dict(max_depth=max_depth, n_estimators=n_estimators, eta=eta)\n",
    "\n",
    "# gridsearch\n",
    "cv = StratifiedKFold(n_splits=10, shuffle=True)\n",
    "xgb_clf_grid = GridSearchCV(XGBClassifier(), param_grid=param_grid, cv=cv, n_jobs=-1)\n",
    "\n",
    "# fit and predict\n",
    "xgb_clf_grid.fit(features_train.values, outcome_train.values)\n",
    "y_pred = xgb_clf_grid.predict(features_test.values)\n",
    "\n",
    "# evaluate\n",
    "print(\"\"\"XGBoost had an accuracy of {0:.3f}, a precision of {1:.3f}, and a recall of {2:.3f}.\"\"\".format(\n",
    "    accuracy_score(outcome_test, y_pred),\n",
    "    precision_score(outcome_test, y_pred),\n",
    "    recall_score(outcome_test, y_pred)))"
   ]
  },
  {
   "cell_type": "code",
   "execution_count": 8,
   "metadata": {
    "ExecuteTime": {
     "end_time": "2020-03-17T23:53:05.987200Z",
     "start_time": "2020-03-17T23:53:05.983211Z"
    }
   },
   "outputs": [
    {
     "data": {
      "text/plain": [
       "{'eta': 0.1, 'n_estimators': 25}"
      ]
     },
     "execution_count": 8,
     "metadata": {},
     "output_type": "execute_result"
    }
   ],
   "source": [
    "xgb_clf_grid.best_params_"
   ]
  },
  {
   "cell_type": "code",
   "execution_count": null,
   "metadata": {},
   "outputs": [],
   "source": []
  }
 ],
 "metadata": {
  "kernelspec": {
   "display_name": "Python 3",
   "language": "python",
   "name": "python3"
  },
  "toc": {
   "base_numbering": 1,
   "nav_menu": {},
   "number_sections": true,
   "sideBar": true,
   "skip_h1_title": false,
   "title_cell": "Table of Contents",
   "title_sidebar": "Contents",
   "toc_cell": false,
   "toc_position": {},
   "toc_section_display": true,
   "toc_window_display": false
  },
  "varInspector": {
   "cols": {
    "lenName": 16,
    "lenType": 16,
    "lenVar": 40
   },
   "kernels_config": {
    "python": {
     "delete_cmd_postfix": "",
     "delete_cmd_prefix": "del ",
     "library": "var_list.py",
     "varRefreshCmd": "print(var_dic_list())"
    },
    "r": {
     "delete_cmd_postfix": ") ",
     "delete_cmd_prefix": "rm(",
     "library": "var_list.r",
     "varRefreshCmd": "cat(var_dic_list()) "
    }
   },
   "types_to_exclude": [
    "module",
    "function",
    "builtin_function_or_method",
    "instance",
    "_Feature"
   ],
   "window_display": false
  }
 },
 "nbformat": 4,
 "nbformat_minor": 4
}
